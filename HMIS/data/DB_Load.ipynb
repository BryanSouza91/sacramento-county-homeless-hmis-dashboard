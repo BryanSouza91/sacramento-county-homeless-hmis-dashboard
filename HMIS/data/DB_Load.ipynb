{
 "cells": [
  {
   "cell_type": "markdown",
   "metadata": {},
   "source": [
    "# Sacramento County Homeless Management Information System Analysis"
   ]
  },
  {
   "cell_type": "markdown",
   "metadata": {},
   "source": [
    "## Create SQL database"
   ]
  },
  {
   "cell_type": "code",
   "execution_count": 1,
   "metadata": {},
   "outputs": [],
   "source": [
    "from sqlalchemy import create_engine\n",
    "from config import username, password\n",
    "import pandas as pd\n",
    "import numpy as np"
   ]
  },
  {
   "cell_type": "code",
   "execution_count": 2,
   "metadata": {},
   "outputs": [],
   "source": [
    "# Use sqalchemy to create connection to database and create database tables\n",
    "engine = create_engine('postgresql://{}:{}@localhost:5432/sac_hmis_db'.format(username,password))\n",
    "\n",
    "con = engine.connect()"
   ]
  },
  {
   "cell_type": "code",
   "execution_count": 3,
   "metadata": {},
   "outputs": [],
   "source": [
    "# Create primary tables\n",
    "with engine.connect() as c:\n",
    "    sql = '''\n",
    "    DROP TABLE IF EXISTS Clients CASCADE;\n",
    "\n",
    "\n",
    "CREATE TABLE Clients(\n",
    "\"Race\" VARCHAR,\n",
    "\"Ethnicity\" VARCHAR,\n",
    "\"Gender\" VARCHAR,\n",
    "\"Vet_Status\" VARCHAR,\n",
    "\"Vet_Discharge_Status\" VARCHAR,\n",
    "\"Created_Date\" DATE,\n",
    "\"Updated_Date\" DATE,\n",
    "\"Birth_Date\" DATE,\n",
    "\"Client_Id\" BIGINT PRIMARY KEY\n",
    ");\n",
    "\n",
    "DROP TABLE IF EXISTS Assessment CASCADE;\n",
    "\n",
    "CREATE TABLE Assessment (\n",
    "\"Client_Id\" BIGINT,\n",
    "\"Assessment_Id\" BIGINT PRIMARY KEY,\n",
    "\"Assessment_Type\" VARCHAR,\n",
    "\"Assessment_Score\" INT,\n",
    "\"Assessment_Date\" DATE,\n",
    "FOREIGN KEY (\"Client_Id\") REFERENCES Clients(\"Client_Id\")\n",
    ");\n",
    "\n",
    "\n",
    "DROP TABLE IF EXISTS Programs CASCADE;\n",
    "\n",
    "CREATE TABLE Programs (\n",
    "\"Program_Id\" INT PRIMARY KEY,\n",
    "\"Agency_Id\" INT,\n",
    "\"Program_Name\" VARCHAR, \n",
    "\"Program_Start\" DATE,\n",
    "\"Program_End\" DATE,\n",
    "\"Continuum\" INT,\n",
    "\"Project_Type\" VARCHAR,\n",
    "\"Target_Pop\" VARCHAR,\n",
    "\"Housing_Type\" VARCHAR,\n",
    "\"Added_Date\" DATE,\n",
    "\"Updated_Date\" DATE\n",
    ");\n",
    "\n",
    "DROP TABLE IF EXISTS Enrollment CASCADE;\n",
    "\n",
    "CREATE TABLE Enrollment (\n",
    "\"Client_Id\" BIGINT,\n",
    "\"Enrollment_Id\" BIGINT PRIMARY KEY,\n",
    "\"Household_Id\" BIGINT,\n",
    "\"Program_Id\" INT,\n",
    "\"Added_Date\" DATE,\n",
    "\"Housing_Status\" VARCHAR,\n",
    "\"LOS_Prior\" VARCHAR,\n",
    "\"Entry Screen Times Homeless in the Past Three Years\" VARCHAR,\n",
    "\"Entry Screen Total Months Homeless in Past Three Years\" VARCHAR,\n",
    "\"Zip\" INT,\n",
    "\"Chronic_Homeless\" VARCHAR,\n",
    "\"Prior_Residence\" VARCHAR,\n",
    "\"Last_Grade_Completed\" VARCHAR,\n",
    "-- FOREIGN KEY (\"Program_Id\") REFERENCES Programs(\"Program_Id\"), -program table missing programs\n",
    "FOREIGN KEY (\"Client_Id\") REFERENCES Clients(\"Client_Id\")\n",
    ");\n",
    "\n",
    "DROP TABLE IF EXISTS Exit_Screen CASCADE; \n",
    "\n",
    "CREATE TABLE Exit_Screen (\n",
    "\"Client_Id\" BIGINT,\n",
    "\"Enrollment_Id\" BIGINT,\n",
    "\"Exit_Destination\" VARCHAR,\n",
    "\"Exit_Reason\" VARCHAR, \n",
    "\"Exit_Date\" DATE,\n",
    "FOREIGN KEY (\"Client_Id\") REFERENCES Clients(\"Client_Id\"),\n",
    "FOREIGN KEY (\"Enrollment_Id\") REFERENCES Enrollment(\"Enrollment_Id\")\n",
    ");\n",
    "\n",
    "DROP TABLE IF EXISTS Destinations CASCADE;\n",
    "\n",
    "CREATE TABLE Destinations(\n",
    "\"Destination_Code\" INT,\n",
    "\"Exit_Destination\" VARCHAR PRIMARY KEY\n",
    ");\n",
    "    '''\n",
    "    c.execute(sql)"
   ]
  },
  {
   "cell_type": "markdown",
   "metadata": {},
   "source": [
    "## Pandas dataframe clean up"
   ]
  },
  {
   "cell_type": "code",
   "execution_count": 4,
   "metadata": {},
   "outputs": [
    {
     "name": "stderr",
     "output_type": "stream",
     "text": [
      "C:\\Users\\Scottinsacto\\Anaconda3\\lib\\site-packages\\IPython\\core\\interactiveshell.py:3058: DtypeWarning: Columns (6,11) have mixed types. Specify dtype option on import or set low_memory=False.\n",
      "  interactivity=interactivity, compiler=compiler, result=result)\n"
     ]
    }
   ],
   "source": [
    "# Read data from CSVs into pandas. \n",
    "# Note exit_destinations.csv was created based on information provided in \"Variables included in County Data\"\n",
    "assessment = pd.read_csv(\"Sacramento_County_-_Assessment_Table_2019-09-05T0401_pTq3TT.csv\")\n",
    "client = pd.read_csv(\"Sacramento_County_-_Client_Table_2019-09-05T0101_Kky8n7.csv\")\n",
    "exit = pd.read_csv(\"Sacramento_County_-_Exit_Table_2019-09-01T0601_FDwNWs.csv\")\n",
    "enrollment = pd.read_csv(\"Sacramento_County_-_Enrollment_Table_2019-09-05T0131_KptDcM.csv\")\n",
    "project = pd.read_csv(\"Sacramento_County_-_Project_Table_2019-09-05T0200_DdZb5N.csv\")\n",
    "destination = pd.read_csv(\"exit_destinations.csv\")"
   ]
  },
  {
   "cell_type": "markdown",
   "metadata": {},
   "source": [
    "#### Assessment table"
   ]
  },
  {
   "cell_type": "code",
   "execution_count": 5,
   "metadata": {},
   "outputs": [],
   "source": [
    "# Eliminate spaces in column names\n",
    "for i in assessment.columns:\n",
    "    assessment.rename(columns = {\n",
    "        i:str(i).replace(' ', '_')\n",
    "    }, inplace=True)\n",
    "    \n",
    "# Rename columns for consistency    \n",
    "assessment.rename(columns={\n",
    "    'Personal_ID': 'Client_Id',\n",
    "    \"Assessment_ID\":'Assessment_Id'\n",
    "}, inplace=True)"
   ]
  },
  {
   "cell_type": "code",
   "execution_count": 6,
   "metadata": {},
   "outputs": [],
   "source": [
    "# Reformat numbers with , dividers\n",
    "assessment['Client_Id'] = assessment['Client_Id'].str.replace(',', '')"
   ]
  },
  {
   "cell_type": "code",
   "execution_count": 7,
   "metadata": {},
   "outputs": [
    {
     "name": "stdout",
     "output_type": "stream",
     "text": [
      "<class 'pandas.core.frame.DataFrame'>\n",
      "RangeIndex: 8944 entries, 0 to 8943\n",
      "Data columns (total 5 columns):\n",
      "Client_Id           8944 non-null object\n",
      "Assessment_Id       8944 non-null int64\n",
      "Assessment_Type     8944 non-null object\n",
      "Assessment_Score    8944 non-null int64\n",
      "Assessment_Date     8944 non-null object\n",
      "dtypes: int64(2), object(3)\n",
      "memory usage: 349.5+ KB\n"
     ]
    }
   ],
   "source": [
    "# Drop unneeded column\n",
    "assessment.drop(columns=['Unnamed:_0'], inplace=True)\n",
    "assessment.info()"
   ]
  },
  {
   "cell_type": "markdown",
   "metadata": {},
   "source": [
    "#### Clients table"
   ]
  },
  {
   "cell_type": "code",
   "execution_count": 8,
   "metadata": {},
   "outputs": [
    {
     "name": "stdout",
     "output_type": "stream",
     "text": [
      "<class 'pandas.core.frame.DataFrame'>\n",
      "RangeIndex: 65822 entries, 0 to 65821\n",
      "Data columns (total 9 columns):\n",
      "Race                    59828 non-null object\n",
      "Ethnicity               62972 non-null object\n",
      "Gender                  64882 non-null object\n",
      "Vet_Status              51723 non-null object\n",
      "Vet_Discharge_Status    4708 non-null object\n",
      "Created_Date            65822 non-null object\n",
      "Updated_Date            65822 non-null object\n",
      "Birth_Date              65665 non-null object\n",
      "Client_Id               65822 non-null object\n",
      "dtypes: object(9)\n",
      "memory usage: 4.5+ MB\n"
     ]
    }
   ],
   "source": [
    "client.rename(columns={\n",
    "    'Clients Race': 'Race',\n",
    "    'Clients Ethnicity':'Ethnicity',\n",
    "    'Clients Gender': 'Gender',\n",
    "    'Clients Veteran Status':'Vet_Status',\n",
    "    'Clients Discharge Status': 'Vet_Discharge_Status',\n",
    "    'Clients Date Created Date': 'Created_Date',\n",
    "    'Clients Date Updated': 'Updated_Date',\n",
    "    'Birth_Date_d':'Birth_Date',\n",
    "    'Personal_Id_d':'Client_Id'\n",
    "},inplace=True)\n",
    "\n",
    "client.info()"
   ]
  },
  {
   "cell_type": "code",
   "execution_count": 9,
   "metadata": {},
   "outputs": [],
   "source": [
    "# Reformat numbers with , dividers\n",
    "client['Client_Id'] = client['Client_Id'].str.replace(',', '')"
   ]
  },
  {
   "cell_type": "markdown",
   "metadata": {},
   "source": [
    "#### Programs/Projects table"
   ]
  },
  {
   "cell_type": "code",
   "execution_count": 10,
   "metadata": {},
   "outputs": [
    {
     "name": "stdout",
     "output_type": "stream",
     "text": [
      "<class 'pandas.core.frame.DataFrame'>\n",
      "RangeIndex: 298 entries, 0 to 297\n",
      "Data columns (total 11 columns):\n",
      "Program_Id       298 non-null int64\n",
      "Agency_Id        298 non-null int64\n",
      "Program_Name     298 non-null object\n",
      "Program_Start    298 non-null object\n",
      "Program_End      134 non-null object\n",
      "Continuum        298 non-null int64\n",
      "Project_Type     298 non-null object\n",
      "Target_Pop       292 non-null object\n",
      "Housing_Type     156 non-null object\n",
      "Added_Date       298 non-null object\n",
      "Updated_Date     298 non-null object\n",
      "dtypes: int64(3), object(8)\n",
      "memory usage: 25.7+ KB\n"
     ]
    }
   ],
   "source": [
    "project.rename(columns={\n",
    "    'Program Id': 'Program_Id',\n",
    "    'Agency Id': 'Agency_Id',\n",
    "    'Name': 'Program_Name',\n",
    "    'Availability Start Date':'Program_Start',\n",
    "    'Availability End Date': 'Program_End',\n",
    "    'Continuum Project': 'Continuum',\n",
    "    'Project Type Code': 'Project_Type',\n",
    "    'Housing Type':'Housing_Type',\n",
    "    'Added Date':'Added_Date',\n",
    "    'Last Updated Date':'Updated_Date',\n",
    "    'Target Population':'Target_Pop'\n",
    "}, inplace=True)\n",
    "\n",
    "# Drop columns labelled as unimportant in source documentation\n",
    "project.drop(columns=['Unnamed: 0','Affiliated Project Ids','Affiliated with a Residential Project', 'Tracking Method',\n",
    "                     'Victim Service Provider'], inplace=True)\n",
    "project.info()"
   ]
  },
  {
   "cell_type": "markdown",
   "metadata": {},
   "source": [
    "#### Exit table"
   ]
  },
  {
   "cell_type": "code",
   "execution_count": 11,
   "metadata": {},
   "outputs": [
    {
     "name": "stdout",
     "output_type": "stream",
     "text": [
      "<class 'pandas.core.frame.DataFrame'>\n",
      "RangeIndex: 135221 entries, 0 to 135220\n",
      "Data columns (total 5 columns):\n",
      "Client_Id           135221 non-null object\n",
      "Enrollment_Id       135221 non-null object\n",
      "Exit_Destination    98429 non-null object\n",
      "Exit_Reason         108588 non-null object\n",
      "Exit_Date           135221 non-null object\n",
      "dtypes: object(5)\n",
      "memory usage: 5.2+ MB\n"
     ]
    }
   ],
   "source": [
    "for i in exit.columns:\n",
    "    if i == 'Project Exit Date':\n",
    "        exit.rename(columns={\n",
    "            i:'Exit_Date'\n",
    "        }, inplace=True)\n",
    "        continue\n",
    "    exit.rename(columns={\n",
    "        i:str(i).replace(' ', '_')\n",
    "    }, inplace=True)\n",
    "exit.rename(columns={\n",
    "    'Personal_ID':'Client_Id'\n",
    "}, inplace=True)\n",
    "\n",
    "exit.info()"
   ]
  },
  {
   "cell_type": "code",
   "execution_count": 12,
   "metadata": {},
   "outputs": [
    {
     "data": {
      "text/plain": [
       "Client_Id           object\n",
       "Enrollment_Id       object\n",
       "Exit_Destination    object\n",
       "Exit_Reason         object\n",
       "Exit_Date           object\n",
       "dtype: object"
      ]
     },
     "execution_count": 12,
     "metadata": {},
     "output_type": "execute_result"
    }
   ],
   "source": [
    "# Reformat numbers with , dividers\n",
    "exit['Client_Id'] = exit['Client_Id'].str.replace(',', '')\n",
    "exit['Enrollment_Id'] = exit['Enrollment_Id'].str.replace(',', '')\n",
    "exit.dtypes"
   ]
  },
  {
   "cell_type": "markdown",
   "metadata": {},
   "source": [
    "#### Enrollment table"
   ]
  },
  {
   "cell_type": "code",
   "execution_count": 13,
   "metadata": {},
   "outputs": [],
   "source": [
    "enrollment.rename(columns={\n",
    "    'Personal ID':'Client_Id',\n",
    "    'Enrollment Id': 'Enrollment_Id',\n",
    "    'Household ID': 'Household_Id',\n",
    "    'Enrollments Project Id': 'Program_Id',\n",
    "    'Entry Screen Added Date':'Added_Date',\n",
    "    'Entry Screen Housing Status':'Housing_Status',\n",
    "    'Entry Screen Length of Stay in Prior Living Situation':'LOS_Prior',\n",
    "    'Entry Screen Zip Code':'Zip',\n",
    "    'Entry Screen Chronic Homeless at Project Start':'Chronic_Homeless',\n",
    "    'Entry Screen Residence Prior to Project Entry':'Prior_Residence',\n",
    "    'Entry Screen Last Grade Completed':'Last_Grade_Completed'\n",
    "}, inplace=True)"
   ]
  },
  {
   "cell_type": "code",
   "execution_count": 14,
   "metadata": {},
   "outputs": [],
   "source": [
    "# Drop columns lablled as unimportant in source documentation\n",
    "enrollment.drop(columns=['Unnamed: 0',\n",
    "                        'Entry Screen Client Became Enrolled in PATH (Yes / No)',\n",
    "                        'Entry Screen Reason not Enrolled','Entry Screen City','Entry Screen State'\n",
    "                        ], inplace=True)\n"
   ]
  },
  {
   "cell_type": "code",
   "execution_count": 15,
   "metadata": {
    "scrolled": true
   },
   "outputs": [
    {
     "name": "stdout",
     "output_type": "stream",
     "text": [
      "<class 'pandas.core.frame.DataFrame'>\n",
      "RangeIndex: 144067 entries, 0 to 144066\n",
      "Data columns (total 13 columns):\n",
      "Client_Id                                                 144067 non-null int64\n",
      "Enrollment_Id                                             144067 non-null object\n",
      "Household_Id                                              144067 non-null int64\n",
      "Program_Id                                                144067 non-null int64\n",
      "Added_Date                                                144067 non-null object\n",
      "Housing_Status                                            91654 non-null object\n",
      "LOS_Prior                                                 106927 non-null object\n",
      "Entry Screen Times Homeless in the Past Three Years       43392 non-null object\n",
      "Entry Screen Total Months Homeless in Past Three Years    32792 non-null object\n",
      "Zip                                                       70744 non-null float64\n",
      "Chronic_Homeless                                          144067 non-null object\n",
      "Prior_Residence                                           122455 non-null object\n",
      "Last_Grade_Completed                                      2494 non-null object\n",
      "dtypes: float64(1), int64(3), object(9)\n",
      "memory usage: 14.3+ MB\n"
     ]
    }
   ],
   "source": [
    "# Reformat numbers with , dividers\n",
    "enrollment['Enrollment_Id'] = enrollment['Enrollment_Id'].str.replace(',', '')\n",
    "enrollment.info()"
   ]
  },
  {
   "cell_type": "markdown",
   "metadata": {},
   "source": [
    "##### Delete clients in Exit table who do not have an ID in Client table"
   ]
  },
  {
   "cell_type": "code",
   "execution_count": 16,
   "metadata": {},
   "outputs": [],
   "source": [
    "exit.drop(exit[exit['Client_Id'] == '455040993'].index, inplace = True) \n",
    "exit.drop(exit[exit['Client_Id'] == '3834035492'].index, inplace = True) "
   ]
  },
  {
   "cell_type": "markdown",
   "metadata": {},
   "source": [
    "## Write about 350,000 rows to database tables"
   ]
  },
  {
   "cell_type": "code",
   "execution_count": 17,
   "metadata": {},
   "outputs": [],
   "source": [
    "# Load cleaned up data to database tables - can take some time\n",
    "client.to_sql(name=\"clients\", if_exists='append', index=False, con=con)\n",
    "assessment.to_sql(name=\"assessment\", if_exists='append', index=False, con=con)\n",
    "project.to_sql(name=\"programs\", if_exists='append', index=False, con=con) \n",
    "enrollment.to_sql(name=\"enrollment\",if_exists=\"append\", index=False, con=con)\n",
    "exit.to_sql(name=\"exit_screen\",if_exists=\"append\", index=False, con=con)\n",
    "destination.to_sql(name=\"destinations\", if_exists='append', index=False, con=con)"
   ]
  },
  {
   "cell_type": "code",
   "execution_count": 18,
   "metadata": {},
   "outputs": [],
   "source": [
    "# Create primary key for Exit table \n",
    "with engine.connect() as c:\n",
    "    sql = '''\n",
    "    ALTER TABLE Exit_Screen\n",
    "ADD COLUMN ES_Id bigserial PRIMARY KEY;\n",
    "    '''\n",
    "    c.execute(sql)"
   ]
  },
  {
   "cell_type": "markdown",
   "metadata": {},
   "source": [
    "### Creating additional tables then views to use with Flask API \n",
    "#### Note data before 2015 deemed unreliable by source so not included\n",
    "### Tables and views for flow/program activity"
   ]
  },
  {
   "cell_type": "code",
   "execution_count": 19,
   "metadata": {},
   "outputs": [],
   "source": [
    "# Table for number of active clients per month \n",
    "# Number active = those enrolled in a program without\n",
    "# an exit date before the end of the queried time period\n",
    "# Client Id may be represented more than once - each enrollment counted\n",
    "\n",
    "dates = pd.date_range(start='1/01/2015',periods=12*5,freq='M')\n",
    "\n",
    "sql_create = '''\n",
    "DROP TABLE IF EXISTS num_active_monthly CASCADE;\n",
    "CREATE TABLE num_active_monthly (\n",
    "Act_Date VARCHAR PRIMARY KEY,\n",
    "Num_Act BIGINT,\n",
    "Null_Act BIGINT\n",
    ")\n",
    "'''\n",
    "with engine.connect() as c:\n",
    "    c.execute(sql_create)\n",
    "    \n",
    "sql_update = '''\n",
    "INSERT INTO num_active_monthly VALUES\n",
    "('{0}',\n",
    "(SELECT COUNT(a.\"Client_Id\")\n",
    "FROM enrollment a\n",
    "LEFT JOIN exit_screen b\n",
    "ON a.\"Enrollment_Id\" = b.\"Enrollment_Id\"\n",
    "WHERE TO_CHAR(a.\"Added_Date\",'YYYY-mm') <= '{0}'\n",
    "AND b.\"Exit_Date\" > '{0}-01'),\n",
    "(SELECT COUNT(a.\"Client_Id\")\n",
    "FROM enrollment a\n",
    "LEFT JOIN exit_screen b\n",
    "ON a.\"Enrollment_Id\" = b.\"Enrollment_Id\"\n",
    "WHERE TO_CHAR(a.\"Added_Date\",'YYYY-mm') <= '{0}'\n",
    "AND b.\"Exit_Date\" IS NULL))\n",
    "'''\n",
    "\n",
    "for date in dates:\n",
    "    date = date.strftime('%Y-%m')\n",
    "    with engine.connect() as c:\n",
    "            c.execute(sql_update.format(date))"
   ]
  },
  {
   "cell_type": "code",
   "execution_count": 20,
   "metadata": {},
   "outputs": [],
   "source": [
    "# Table for number of active clients per year\n",
    "# Clients who were exclusively active (entered before year start, exited after)\n",
    "\n",
    "dates_y = ['2015','2016','2017','2018','2019']\n",
    "\n",
    "sql_create = '''\n",
    "DROP TABLE IF EXISTS num_active_yearly CASCADE;\n",
    "CREATE TABLE num_active_yearly (\n",
    "Act_Date VARCHAR PRIMARY KEY,\n",
    "Num_Act BIGINT,\n",
    "Null_Act BIGINT\n",
    ");\n",
    "'''\n",
    "with engine.connect() as c:\n",
    "    c.execute(sql_create)\n",
    "    \n",
    "sql_update = '''\n",
    "INSERT INTO num_active_yearly VALUES\n",
    "('{0}',\n",
    "(SELECT COUNT(a.\"Client_Id\")\n",
    "FROM enrollment a\n",
    "LEFT JOIN exit_screen b\n",
    "ON a.\"Enrollment_Id\" = b.\"Enrollment_Id\"\n",
    "WHERE TO_CHAR(a.\"Added_Date\",'YYYY') <= '{0}'\n",
    "AND b.\"Exit_Date\" > '{0}-01-01'),\n",
    "(SELECT COUNT(a.\"Client_Id\")\n",
    "FROM enrollment a\n",
    "LEFT JOIN exit_screen b\n",
    "ON a.\"Enrollment_Id\" = b.\"Enrollment_Id\"\n",
    "WHERE TO_CHAR(a.\"Added_Date\",'YYYY') <= '{0}'\n",
    "AND b.\"Exit_Date\" is null));\n",
    "'''\n",
    "\n",
    "for date in dates_y:\n",
    "    with engine.connect() as c:\n",
    "        c.execute(sql_update.format(date))"
   ]
  },
  {
   "cell_type": "code",
   "execution_count": 21,
   "metadata": {},
   "outputs": [],
   "source": [
    "# Create views for exit and entry into programs\n",
    "with engine.connect() as c:\n",
    "    sql = '''\n",
    "    DROP VIEW IF EXISTS monthly_in CASCADE;\n",
    "    \n",
    "    CREATE VIEW monthly_in AS\n",
    "    SELECT TO_CHAR(e.\"Added_Date\", 'YYYY-mm'), COUNT(e.\"Client_Id\") Num_in\n",
    "    FROM enrollment e\n",
    "    WHERE TO_CHAR(e.\"Added_Date\", 'YYYY') > '2014'\n",
    "    GROUP BY TO_CHAR(e.\"Added_Date\", 'YYYY-mm')\n",
    "    ORDER BY TO_CHAR(e.\"Added_Date\", 'YYYY-mm') DESC;\n",
    "    \n",
    "    DROP VIEW IF EXISTS monthly_out CASCADE;\n",
    "    \n",
    "    CREATE VIEW monthly_out as\n",
    "    SELECT TO_CHAR(e.\"Exit_Date\", 'YYYY-mm'), COUNT(e.\"Client_Id\") Num_out\n",
    "    FROM exit_screen e\n",
    "    WHERE TO_CHAR(e.\"Exit_Date\", 'YYYY') > '2014'\n",
    "    GROUP BY TO_CHAR(e.\"Exit_Date\", 'YYYY-mm')\n",
    "    ORDER BY TO_CHAR(e.\"Exit_Date\", 'YYYY-mm') DESC;\n",
    "    \n",
    "    DROP VIEW IF EXISTS yearly_in CASCADE;\n",
    "    \n",
    "    CREATE VIEW yearly_in as\n",
    "    SELECT TO_CHAR(e.\"Added_Date\", 'YYYY') date, COUNT(e.\"Client_Id\") Num_in\n",
    "    FROM enrollment e\n",
    "    WHERE TO_CHAR(e.\"Added_Date\", 'YYYY') > '2014'\n",
    "    GROUP BY TO_CHAR(e.\"Added_Date\", 'YYYY')\n",
    "    ORDER BY TO_CHAR(e.\"Added_Date\", 'YYYY') DESC;\n",
    "    \n",
    "    DROP VIEW IF EXISTS yearly_out CASCADE;\n",
    "    \n",
    "    CREATE VIEW yearly_out as\n",
    "    SELECT TO_CHAR(e.\"Exit_Date\", 'YYYY'), COUNT(e.\"Client_Id\") Num_out\n",
    "    FROM exit_screen e\n",
    "    WHERE TO_CHAR(e.\"Exit_Date\", 'YYYY') > '2014'\n",
    "    GROUP BY TO_CHAR(e.\"Exit_Date\", 'YYYY')\n",
    "    ORDER BY TO_CHAR(e.\"Exit_Date\", 'YYYY') DESC;\n",
    "    '''\n",
    "    c.execute(sql)"
   ]
  },
  {
   "cell_type": "code",
   "execution_count": 22,
   "metadata": {},
   "outputs": [],
   "source": [
    "# Create table for top 5 programs by enrollment by year\n",
    "dates_y = ['2015','2016','2017','2018','2019']\n",
    "\n",
    "sql_create = '''\n",
    "DROP TABLE IF EXISTS top_5_programs CASCADE;\n",
    "CREATE TABLE top_5_programs(\n",
    "\"Date\" VARCHAR(5),\n",
    "\"Program\" VARCHAR(100),\n",
    "\"Num_Enroll\" BIGINT);\n",
    "'''\n",
    "with engine.connect() as c:\n",
    "    c.execute(sql_create)\n",
    "    \n",
    "sql_update = '''\n",
    "INSERT INTO top_5_programs\n",
    "\n",
    "SELECT TO_CHAR(e.\"Added_Date\",'YYYY') \"Date\", p.\"Program_Name\", COUNT(e.\"Enrollment_Id\")\"Num_Enroll\"\n",
    "FROM enrollment e\n",
    "LEFT JOIN programs p\n",
    "ON p.\"Program_Id\" = e.\"Program_Id\"\n",
    "WHERE TO_CHAR(e.\"Added_Date\",'YYYY') = '{0}'\n",
    "GROUP BY TO_CHAR(e.\"Added_Date\",'YYYY'), p.\"Program_Name\" \n",
    "ORDER BY COUNT(e.\"Enrollment_Id\") DESC LIMIT 5;\n",
    "'''\n",
    "\n",
    "for date in dates_y:\n",
    "    with engine.connect() as c:\n",
    "        c.execute(sql_update.format(date))"
   ]
  },
  {
   "cell_type": "markdown",
   "metadata": {},
   "source": [
    "### Create Views for Demographics (Gender/Age/Race) per year"
   ]
  },
  {
   "cell_type": "code",
   "execution_count": 23,
   "metadata": {},
   "outputs": [],
   "source": [
    "# Create demographic tables\n",
    "with engine.connect()as c:\n",
    "    sql = '''\n",
    "UPDATE clients\n",
    "SET \"Race\" = 'Unknown'\n",
    "WHERE \"Race\" IN ('Client Refused', 'Data Not Collected',\n",
    "'Client doesn''t Know')\n",
    "OR\"Race\" IS NULL;\n",
    "\n",
    "DROP VIEW IF EXISTS yearly_race CASCADE;\n",
    "\n",
    "CREATE VIEW yearly_race AS\n",
    "SELECT TO_CHAR(e.\"Added_Date\",'YYYY') Date, c.\"Race\", COUNT(distinct e.\"Client_Id\") Num_People_Enroll\n",
    "FROM enrollment e\n",
    "LEFT JOIN clients c\n",
    "ON e.\"Client_Id\" = c.\"Client_Id\"\n",
    "WHERE TO_CHAR(e.\"Added_Date\",'YYYY') > '2014'\n",
    "GROUP BY TO_CHAR(e.\"Added_Date\",'YYYY'), c.\"Race\"\n",
    "ORDER BY TO_CHAR(e.\"Added_Date\",'YYYY'), COUNT(e.\"Enrollment_Id\");\n",
    "\n",
    "UPDATE clients\n",
    "SET \"Gender\" = 'Unknown'\n",
    "WHERE \"Gender\" IN ('Client doesn''t know', 'Client refused',\n",
    "'Data not collected')\n",
    "OR \"Gender\" IS NULL;\n",
    "\n",
    "DROP VIEW IF EXISTS yearly_gender CASCADE;\n",
    "\n",
    "CREATE VIEW yearly_gender AS\n",
    "SELECT TO_CHAR(e.\"Added_Date\",'YYYY') Date, c.\"Gender\", COUNT(distinct e.\"Client_Id\") Num_People_Enroll\n",
    "FROM enrollment e\n",
    "LEFT JOIN clients c\n",
    "ON e.\"Client_Id\" = c.\"Client_Id\"\n",
    "WHERE TO_CHAR(e.\"Added_Date\",'YYYY') > '2014'\n",
    "GROUP BY TO_CHAR(e.\"Added_Date\",'YYYY'), c.\"Gender\"\n",
    "ORDER BY TO_CHAR(e.\"Added_Date\",'YYYY'), COUNT(distinct e.\"Client_Id\");\n",
    "\n",
    "\n",
    "DROP VIEW IF EXISTS yearly_age;\n",
    "CREATE VIEW yearly_age AS\n",
    "SELECT TO_CHAR(e.\"Added_Date\",'YYYY') \"Date\",\n",
    "((e.\"Added_Date\"::date - c.\"Birth_Date\"::date)/365) \"Age\"\n",
    "FROM enrollment e\n",
    "LEFT JOIN \n",
    "clients c \n",
    "ON e.\"Client_Id\" = c.\"Client_Id\"\n",
    "WHERE TO_CHAR(e.\"Added_Date\",'YYYY') > '2014'\n",
    "and c.\"Birth_Date\" is not null\n",
    "ORDER BY \"Date\", \"Age\";\n",
    "'''\n",
    "    c.execute(sql)"
   ]
  },
  {
   "cell_type": "markdown",
   "metadata": {},
   "source": [
    "## Create Views/ Tables for outcomes"
   ]
  },
  {
   "cell_type": "code",
   "execution_count": 24,
   "metadata": {},
   "outputs": [],
   "source": [
    "# Table for % to permanent housing at program exit\n",
    "sql_create = '''\n",
    "DROP TABLE IF EXISTS num_to_PH CASCADE;\n",
    "CREATE TABLE num_to_PH (\n",
    "Month_Exit VARCHAR PRIMARY KEY,\n",
    "Num_PH BIGINT,\n",
    "Num_Exit BIGINT\n",
    ");\n",
    "'''\n",
    "with engine.connect() as c:\n",
    "     c.execute(sql_create)\n",
    "\n",
    "dates = pd.date_range(start='1/01/2015',periods=12*5,freq='M')\n",
    "\n",
    "sql_update = '''\n",
    "INSERT INTO num_to_PH VALUES\n",
    "('{0}',\n",
    "(SELECT COUNT (DISTINCT e.\"Client_Id\") \n",
    "FROM exit_screen e\n",
    "LEFT JOIN destinations d\n",
    "ON e.\"Exit_Destination\" = d.\"Exit_Destination\"\n",
    "WHERE d.\"Destination_Code\" = 1 \n",
    "AND to_char(e.\"Exit_Date\", 'YYYY-mm') <= '{0}'\n",
    "AND e.\"Exit_Date\" > '{0}-01'),\n",
    "(SELECT COUNT (DISTINCT e.\"Client_Id\") \n",
    "FROM exit_screen e\n",
    "LEFT JOIN destinations d\n",
    "ON e.\"Exit_Destination\" = d.\"Exit_Destination\"\n",
    "WHERE to_char(e.\"Exit_Date\", 'YYYY-mm') <= '{0}'\n",
    "AND e.\"Exit_Date\" > '{0}-01'));\n",
    "'''\n",
    "\n",
    "for date in dates:\n",
    "    date = date.strftime('%Y-%m')\n",
    "    with engine.connect() as c:\n",
    "        c.execute(sql_update.format(date))"
   ]
  },
  {
   "cell_type": "code",
   "execution_count": 25,
   "metadata": {},
   "outputs": [],
   "source": [
    "# Create views for number to permanent housing at exit yearly and all exits yearly\n",
    "with engine.connect() as c:\n",
    "    sql = '''\n",
    "DROP VIEW IF EXISTS yearly_to_ph CASCADE;\n",
    "\n",
    "CREATE VIEW yearly_to_ph AS\n",
    "SELECT to_char(e.\"Exit_Date\", 'YYYY') date, \n",
    "COUNT(e.\"Client_Id\") Num_exit\n",
    "FROM exit_screen e\n",
    "LEFT JOIN destinations d\n",
    "ON e.\"Exit_Destination\" = d.\"Exit_Destination\"\n",
    "WHERE d.\"Destination_Code\" = 1 \n",
    "AND to_char(e.\"Exit_Date\", 'YYYY') > '2014'\n",
    "GROUP BY to_char(e.\"Exit_Date\", 'YYYY')\n",
    "ORDER BY to_char(e.\"Exit_Date\", 'YYYY') DESC;\n",
    "\n",
    "DROP VIEW IF EXISTS yearly_total_exit CASCADE;\n",
    "CREATE VIEW yearly_total_exit AS\n",
    "SELECT TO_CHAR(e.\"Exit_Date\", 'YYYY') DATE, \n",
    "COUNT(e.\"Client_Id\") Num_exit\n",
    "FROM exit_screen e\n",
    "WHERE TO_CHAR(e.\"Exit_Date\", 'YYYY') > '2014'\n",
    "GROUP BY TO_CHAR(e.\"Exit_Date\", 'YYYY')\n",
    "ORDER BY TO_CHAR(e.\"Exit_Date\", 'YYYY') DESC;\n",
    "    '''\n",
    "    c.execute(sql)"
   ]
  },
  {
   "cell_type": "code",
   "execution_count": 26,
   "metadata": {},
   "outputs": [],
   "source": [
    "# Create view for number of unique individuals to programs per year where the client was homeless on entry\n",
    "from sqlalchemy import text\n",
    "sql_homeless = text('''\n",
    "DROP VIEW IF EXISTS yearly_enroll_homeless CASCADE;\n",
    "\n",
    "CREATE VIEW yearly_enroll_homeless AS\n",
    "SELECT DISTINCT TO_CHAR(\"Added_Date\", 'YYYY') \"Date\",\n",
    "COUNT(distinct \"Client_Id\") \"Num_Homeless\"\n",
    "FROM enrollment\n",
    "WHERE (\"Housing_Status\" LIKE '%Category 1%' OR\n",
    "\"Prior_Residence\" = 'Emergency Shelter, including hotel/motel paid for with voucher'\n",
    "OR \"Prior_Residence\" = 'Hospital or other residential non-psychiatric medical facility'\n",
    "OR \"Prior_Residence\" = 'Place not meant for habitation'\n",
    "OR \"Prior_Residence\" = 'Psychiatric hospital or other psychiatric facility'\n",
    "OR \"Prior_Residence\" = 'Transitional housing for homeless persons')\n",
    "AND TO_CHAR(\"Added_Date\", 'YYYY') > '2014'\n",
    "GROUP BY \"Date\"\n",
    "ORDER BY \"Date\" DESC;\n",
    "''')\n",
    "\n",
    "\n",
    "with engine.connect() as connection:\n",
    "    connection.execute(sql_homeless)"
   ]
  },
  {
   "cell_type": "code",
   "execution_count": 27,
   "metadata": {},
   "outputs": [],
   "source": [
    "# View for average days from exit for those who exit to permanent housing and started in\n",
    "# transitional housing or shelter to permanent housing\n",
    "\n",
    "with engine.connect() as c:\n",
    "    sql = '''\n",
    "DROP VIEW IF EXISTS avg_to_PH CASCADE;\n",
    "\n",
    "CREATE VIEW avg_to_PH AS \n",
    "SELECT DISTINCT TO_CHAR(a.\"Added_Date\", 'YYYY') \"Date\",\n",
    "AVG(b.\"Exit_Date\"::date - a.\"Added_Date\"::date) \"Avg_Time_to_PH\",\n",
    "COUNT(distinct a.\"Client_Id\")\n",
    "FROM enrollment a\n",
    "LEFT JOIN exit_screen b\n",
    "ON a.\"Enrollment_Id\" = b.\"Enrollment_Id\"\n",
    "LEFT JOIN destinations d\n",
    "ON b.\"Exit_Destination\" = d.\"Exit_Destination\"\n",
    "LEFT JOIN programs p\n",
    "ON a.\"Program_Id\" = p.\"Program_Id\"\n",
    "WHERE TO_CHAR(a.\"Added_Date\", 'YYYY') > '2014'\n",
    "AND d.\"Destination_Code\" = 1\n",
    "AND (p.\"Project_Type\" = 'Transitional Housing'\n",
    "OR p.\"Project_Type\" = 'Day Shelter'\n",
    "OR p.\"Project_Type\" = 'Emergency Shelter')\n",
    "GROUP BY \"Date\"\n",
    "'''\n",
    "    c.execute(sql)"
   ]
  },
  {
   "cell_type": "code",
   "execution_count": 28,
   "metadata": {},
   "outputs": [],
   "source": [
    "# Views for % to permanent housing\n",
    "with engine.connect() as c:\n",
    "    sql = '''\n",
    "DROP VIEW IF EXISTS percent_ph_yr CASCADE;\n",
    "\n",
    "CREATE VIEW percent_ph_yr AS\n",
    "SELECT p.\"date\" \"Date\", \n",
    "(CAST(p.\"num_exit\" AS FLOAT)/\n",
    "    CAST(a.\"num_exit\" AS FLOAT)*100) \"Percent\"\n",
    "FROM yearly_to_ph p\n",
    "LEFT JOIN yearly_total_exit a \n",
    "ON a.\"date\" = p.\"date\"; \n",
    "\n",
    "DROP VIEW IF EXISTS percent_ph_mo CASCADE;\n",
    "\n",
    "CREATE VIEW percent_ph_mo AS\n",
    "SELECT \"month_exit\" \"Date\", \n",
    "(CAST(\"num_ph\" AS FLOAT)/\n",
    "    CAST(NULLIF(\"num_exit\",0) AS FLOAT)*100) \"Percent\"\n",
    "FROM num_to_ph; \n",
    "'''\n",
    "    c.execute(sql)"
   ]
  },
  {
   "cell_type": "code",
   "execution_count": 29,
   "metadata": {},
   "outputs": [],
   "source": [
    "# Update num_active_yearly and num_active_monthly tables to have a total column \n",
    "\n",
    "with engine.connect() as c:\n",
    "    sql= '''\n",
    "ALTER TABLE num_active_yearly\n",
    "ADD COLUMN total_act BIGINT;\n",
    "UPDATE num_active_yearly \n",
    "SET \"total_act\" = \"null_act\" + \"num_act\";\n",
    "\n",
    "ALTER TABLE num_active_monthly\n",
    "ADD COLUMN total_act BIGINT;\n",
    "UPDATE num_active_monthly\n",
    "SET \"total_act\" = \"null_act\" + \"num_act\";\n",
    "'''\n",
    "    c.execute(sql)"
   ]
  },
  {
   "cell_type": "code",
   "execution_count": 30,
   "metadata": {},
   "outputs": [],
   "source": [
    "#Pandas manipulation for quartiles needed for age box plot\n",
    "sql = 'SELECT * FROM yearly_age'\n",
    "con = engine.connect()\n",
    "age = pd.read_sql(sql=sql, con=con)\n",
    "for index,row in age.iterrows():\n",
    "    if row[1] >= 100:\n",
    "        age.drop([index], inplace=True)\n",
    "        \n",
    "years = ['2015','2016','2017','2018','2019']\n",
    "age_stats = {}\n",
    "for year in years:\n",
    "    age_stats[year] = age.loc[age.Date == year].describe().T.values\n",
    "\n",
    "age_df = pd.DataFrame(columns=['Count','Mean','std','Min','lower','median','upper','max','date'])\n",
    "counter = 0\n",
    "for key in age_stats:\n",
    "    age_df.loc[counter] = np.append(age_stats[key][0],key)\n",
    "    counter += 1\n",
    "    \n",
    "age_df.to_sql(name='yearly_age_table', if_exists='replace',index=False, con=con)"
   ]
  },
  {
   "cell_type": "code",
   "execution_count": 31,
   "metadata": {},
   "outputs": [],
   "source": [
    "# Changed selecting from yearly age language due to new column names \n",
    "\n",
    "with engine.connect() as c:\n",
    "    sql= '''\n",
    "DROP TABLE if exists monthly_flow;\n",
    "SELECT A.\"num_in\", \n",
    "B.\"num_out\",\n",
    "C.\"total_act\", C.\"act_date\",\n",
    "D.\"num_ph\", \n",
    "E.\"Percent\" \n",
    "INTO monthly_flow\n",
    "FROM monthly_in A FULL JOIN monthly_out B ON A.\"to_char\" = B.\"to_char\"\n",
    "FULL JOIN num_active_monthly C on A.\"to_char\" = C.\"act_date\"\n",
    "FULL JOIN num_to_ph D on D.\"month_exit\" = A.\"to_char\"\n",
    "FULL JOIN percent_ph_mo E ON E.\"Date\" = D.\"month_exit\"\n",
    "WHERE A.\"num_in\" IS NOT NULL\n",
    "ORDER BY \"act_date\" DESC;\n",
    "\n",
    "DROP TABLE if exists yearly_flow;\n",
    "SELECT A.\"num_in\", \n",
    "B.\"num_out\",\n",
    "C.\"total_act\", C.\"act_date\",\n",
    "D.\"num_exit\",\n",
    "E.\"Avg_Time_to_PH\", \n",
    "F.\"Percent\"\n",
    "INTO yearly_flow\n",
    "FROM yearly_in A FULL JOIN yearly_out B ON A.\"date\" = B.\"to_char\"\n",
    "FULL JOIN num_active_yearly C ON A.\"date\" = C.\"act_date\"\n",
    "FULL JOIN yearly_to_ph D ON A.\"date\" = D.\"date\"\n",
    "FULL JOIN avg_to_ph E ON E.\"Date\" = A.\"date\"\n",
    "FULL JOIN percent_ph_yr F ON F.\"Date\"=A.\"date\"\n",
    "ORDER BY \"act_date\" DESC;\n",
    "\n",
    "DROP TABLE if exists demographics;\n",
    "WITH race AS\n",
    "(\n",
    "SELECT ROW_NUMBER() OVER(ORDER BY \"date\") AS ROWNUM, * FROM yearly_race\n",
    "),\n",
    "gender AS\n",
    "(\n",
    "SELECT ROW_NUMBER() OVER (ORDER BY \"date\") AS ROWNUM, * FROM yearly_gender\n",
    "),\n",
    "age as \n",
    "(\n",
    "SELECT ROW_NUMBER() OVER (ORDER BY \"date\") AS ROWNUM, * FROM yearly_age_table\n",
    "),\n",
    "progs as \n",
    "(\n",
    "SELECT ROW_NUMBER() OVER (ORDER BY \"Date\") AS ROWNUM, * FROM top_5_programs\n",
    ")\n",
    "SELECT \n",
    "A.\"Race\", A.\"num_people_enroll\" race_enroll, A.\"date\" RDate,\n",
    "B.\"Gender\", B.\"num_people_enroll\" gender_enroll, B.\"date\" GDate,\n",
    "D.\"Count\", D.\"Min\", D.\"lower\",D.\"median\",D.\"upper\", D.\"max\", D.\"date\" ADate,\n",
    "E.\"Program\", E.\"Num_Enroll\" prog_enroll, E.\"Date\" PDate\n",
    "INTO demographics \n",
    "FROM race A \n",
    "FULL JOIN gender B ON A.ROWNUM = B.ROWNUM\n",
    "FULL JOIN age D on A.ROWNUM = D.ROWNUM\n",
    "FULL JOIN progs E on A.ROWNUM = E.ROWNUM;\n",
    "    '''\n",
    "    c.execute(sql)"
   ]
  },
  {
   "cell_type": "code",
   "execution_count": 32,
   "metadata": {},
   "outputs": [],
   "source": [
    "# Make projection for end of 2019 data for comparison in yearly activity chart\n",
    "# Simple approach  just using means of previous corresponding months of data for in and out\n",
    "# Projections for active is tricker to get, so just assumes 5% growth in active participants based on 2018 growth\n",
    "\n",
    "# Monthly table data manipulation \n",
    "con = engine.connect()\n",
    "sql = 'SELECT * FROM monthly_flow'\n",
    "monthly = pd.read_sql(sql=sql,con=con)\n",
    "replace_dates = ['2019-09','2019-10','2019-11','2019-12']\n",
    "monthly['month'] = monthly['act_date'].apply(lambda x : str(x).split('-')[1])\n",
    "monthly.set_index(monthly.act_date, inplace=True)\n",
    "for date in replace_dates:\n",
    "    monthly.loc[date,'num_in'] = int(monthly.loc[monthly.month==date.split('-')[1],'num_in'].mean())\n",
    "    monthly.loc[date,'num_out'] = int(monthly.loc[monthly.month==date.split('-')[1],'num_out'].mean())\n",
    "    monthly.loc[date,'total_act'] = int(monthly.loc[monthly.month==date.split('-')[1],'total_act'].mean())\n",
    "    monthly.loc[date,'num_ph'] = int(monthly.loc[monthly.month==date.split('-')[1],'num_ph'].mean())\n",
    "    monthly.loc[date,'Percent'] = (monthly.loc[date,'num_ph'] / monthly.loc[date,'num_out'])*100\n",
    "    monthly.loc[date,'act_date'] = date\n",
    "    \n",
    "\n",
    "monthly.reset_index(drop=True, inplace=True)\n",
    "monthly['date'] = pd.to_datetime(monthly['act_date'])\n",
    "monthly.sort_values('date', inplace=True, ascending=False)\n",
    "\n",
    "# Yearly flow data table manipulation \n",
    "sql = 'SELECT * FROM yearly_flow'\n",
    "yearly = pd.read_sql(sql=sql,con=con)\n",
    "yearly.loc[yearly.act_date=='2019','num_in'] = monthly.loc[monthly.date.dt.year==2019,'num_in'].sum()\n",
    "yearly.loc[yearly.act_date=='2019','num_out'] = monthly.loc[monthly.date.dt.year==2019,'num_out'].sum()\n",
    "yearly.loc[yearly.act_date=='2019','total_act'] = 22001 \n",
    "\n",
    "# Write manuipulated dataframes back to db \n",
    "yearly.to_sql(name='yearly_flow', con=con, if_exists='replace', index=False)\n",
    "# Drop created columns needed for making predictions for last months of 2019 \n",
    "monthly.drop(columns=['date', 'month'], inplace=True)\n",
    "monthly.to_sql(name='monthly_flow', con=con, if_exists='replace', index=False)"
   ]
  },
  {
   "cell_type": "code",
   "execution_count": null,
   "metadata": {},
   "outputs": [],
   "source": []
  }
 ],
 "metadata": {
  "kernelspec": {
   "display_name": "Python 3",
   "language": "python",
   "name": "python3"
  },
  "language_info": {
   "codemirror_mode": {
    "name": "ipython",
    "version": 3
   },
   "file_extension": ".py",
   "mimetype": "text/x-python",
   "name": "python",
   "nbconvert_exporter": "python",
   "pygments_lexer": "ipython3",
   "version": "3.7.3"
  }
 },
 "nbformat": 4,
 "nbformat_minor": 2
}
